{
 "cells": [
  {
   "cell_type": "code",
   "execution_count": 1,
   "metadata": {},
   "outputs": [
    {
     "name": "stdout",
     "output_type": "stream",
     "text": [
      "this string has been\n",
      "split over\n",
      "several\n",
      "lines\n"
     ]
    }
   ],
   "source": [
    "splitString = \"this string has been\\nsplit over\\nseveral\\nlines\"\n",
    "print(splitString)"
   ]
  },
  {
   "cell_type": "code",
   "execution_count": 4,
   "metadata": {},
   "outputs": [
    {
     "name": "stdout",
     "output_type": "stream",
     "text": [
      "1\t2\t3\t4\t5\n"
     ]
    }
   ],
   "source": [
    "tabbedString = \"1\\t2\\t3\\t4\\t5\"\n",
    "print(tabbedString)"
   ]
  },
  {
   "cell_type": "code",
   "execution_count": 5,
   "metadata": {},
   "outputs": [
    {
     "name": "stdout",
     "output_type": "stream",
     "text": [
      "the pet shop own said \"No, no, 'e's uh,...he's resting\"\n"
     ]
    }
   ],
   "source": [
    "print('the pet shop owner said \"No, no, \\'e\\'s uh,...he\\'s resting\"')"
   ]
  },
  {
   "cell_type": "code",
   "execution_count": 6,
   "metadata": {},
   "outputs": [
    {
     "name": "stdout",
     "output_type": "stream",
     "text": [
      "the pet shop said\"No, no, 'e's uh,...he's resting\".\n"
     ]
    }
   ],
   "source": [
    "print(\"the pet shop owner said\\\"No, no, 'e's uh,...he's resting\\\".\")"
   ]
  },
  {
   "cell_type": "code",
   "execution_count": 9,
   "metadata": {},
   "outputs": [
    {
     "name": "stdout",
     "output_type": "stream",
     "text": [
      "the pet shop owner said\"No, no, 'e's uh,...he's resting\".\n"
     ]
    }
   ],
   "source": [
    "print(\"\"\"the pet shop owner said\"No, no, 'e's uh,...he's resting\".\"\"\")"
   ]
  },
  {
   "cell_type": "code",
   "execution_count": 11,
   "metadata": {},
   "outputs": [
    {
     "name": "stdout",
     "output_type": "stream",
     "text": [
      "this string has been\n",
      "split over\n",
      "several\n",
      "lines\n"
     ]
    }
   ],
   "source": [
    "anotherSplitString = \"\"\"this string has been\n",
    "split over\n",
    "several\n",
    "lines\"\"\"\n",
    "print(anotherSplitString)"
   ]
  },
  {
   "cell_type": "code",
   "execution_count": 12,
   "metadata": {},
   "outputs": [
    {
     "name": "stdout",
     "output_type": "stream",
     "text": [
      "this string has been split over several lines\n"
     ]
    }
   ],
   "source": [
    "anotherSplitString = \"\"\"this string has been \\\n",
    "split over \\\n",
    "several \\\n",
    "lines\"\"\"\n",
    "print(anotherSplitString)"
   ]
  },
  {
   "cell_type": "code",
   "execution_count": null,
   "metadata": {},
   "outputs": [],
   "source": []
  },
  {
   "cell_type": "code",
   "execution_count": null,
   "metadata": {},
   "outputs": [],
   "source": []
  },
  {
   "cell_type": "code",
   "execution_count": null,
   "metadata": {},
   "outputs": [],
   "source": []
  },
  {
   "cell_type": "code",
   "execution_count": null,
   "metadata": {},
   "outputs": [],
   "source": []
  },
  {
   "cell_type": "code",
   "execution_count": null,
   "metadata": {},
   "outputs": [],
   "source": []
  }
 ],
 "metadata": {
  "kernelspec": {
   "display_name": "Python 3",
   "language": "python",
   "name": "python3"
  },
  "language_info": {
   "codemirror_mode": {
    "name": "ipython",
    "version": 3
   },
   "file_extension": ".py",
   "mimetype": "text/x-python",
   "name": "python",
   "nbconvert_exporter": "python",
   "pygments_lexer": "ipython3",
   "version": "3.6.5"
  }
 },
 "nbformat": 4,
 "nbformat_minor": 2
}
